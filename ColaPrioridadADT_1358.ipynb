{
  "nbformat": 4,
  "nbformat_minor": 0,
  "metadata": {
    "colab": {
      "name": "ColaPrioridadADT_1358.ipynb",
      "provenance": [],
      "authorship_tag": "ABX9TyPHI+EqDzD1CIgSZ4Su1HgQ",
      "include_colab_link": true
    },
    "kernelspec": {
      "name": "python3",
      "display_name": "Python 3"
    },
    "language_info": {
      "name": "python"
    }
  },
  "cells": [
    {
      "cell_type": "markdown",
      "metadata": {
        "id": "view-in-github",
        "colab_type": "text"
      },
      "source": [
        "<a href=\"https://colab.research.google.com/github/valeria-gl/Cuestionario-11.-Actividad-en-clase-22-nov-21/blob/main/ColaPrioridadADT_1358.ipynb\" target=\"_parent\"><img src=\"https://colab.research.google.com/assets/colab-badge.svg\" alt=\"Open In Colab\"/></a>"
      ]
    },
    {
      "cell_type": "code",
      "metadata": {
        "id": "IvzXqYEmAc4G"
      },
      "source": [
        "class QueueADT:\n",
        "  def __init__(self):\n",
        "    self.__data = []\n",
        "\n",
        "  def is_empty(self):\n",
        "    return len(self.__data) == 0\n",
        "  \n",
        "  def length(self):\n",
        "    return len(self.__data)\n",
        "  \n",
        "  def enqueue(self, dato):\n",
        "    self.__data.append(dato)\n",
        "\n",
        "  def dequeue(self):\n",
        "    if not self.is_empty():\n",
        "      return self.__data.pop(0)\n",
        "  \n",
        "  def to_string(self):\n",
        "    for x in self.__data:\n",
        "      print(f\"|{x}| <--\", end=\" \")\n",
        "    print(\"\")"
      ],
      "execution_count": 19,
      "outputs": []
    },
    {
      "cell_type": "code",
      "metadata": {
        "colab": {
          "base_uri": "https://localhost:8080/"
        },
        "id": "Pd_OSTMEA6Ti",
        "outputId": "bb9e6814-f9ca-4e3e-e3d6-70f10dc03111"
      },
      "source": [
        "cola = QueueADT()\n",
        "print(\"¿Está vacío?\", cola.is_empty())\n",
        "print(\"Número de elementos: \", cola.length())\n",
        "cola.enqueue(10)\n",
        "cola.to_string()\n",
        "cola.enqueue(20)\n",
        "cola.enqueue(30)\n",
        "cola.enqueue(40)\n",
        "cola.to_string()\n",
        "print(\"Número de elementos: \", cola.length())\n",
        "cola.dequeue()\n",
        "cola.to_string()"
      ],
      "execution_count": 20,
      "outputs": [
        {
          "output_type": "stream",
          "name": "stdout",
          "text": [
            "¿Está vacío? True\n",
            "Número de elementos:  0\n",
            "|10| <-- \n",
            "|10| <-- |20| <-- |30| <-- |40| <-- \n",
            "Número de elementos:  4\n",
            "|20| <-- |30| <-- |40| <-- \n"
          ]
        }
      ]
    },
    {
      "cell_type": "code",
      "metadata": {
        "id": "u75U48m5A7mA"
      },
      "source": [
        "class ColaPrioridadAcotada:\n",
        "  def __init__(self, niveles):\n",
        "    self.__data = [QueueADT() for x in range(niveles)]\n",
        "    self.length = 0\n",
        "\n",
        "  def is_empty(self):\n",
        "    return self.length == 0\n",
        "\n",
        "  def length(self):\n",
        "    return self.length\n",
        "  \n",
        "  def enqueue(self, nivel, dato):\n",
        "    if nivel >= 0 and nivel < len(self.__data):\n",
        "      self.__data[nivel].enqueue(dato)\n",
        "      self.length += 1\n",
        "  \n",
        "  def to_string(self):\n",
        "    for p in range(len(self.__data)):\n",
        "      print(f\"Prioridad {p} = \", end = \"\")\n",
        "      self.__data[p].to_string()\n",
        "\n",
        "  def dequeue(self):\n",
        "    for nivel in self.__data:\n",
        "      if not nivel.is_empty():\n",
        "        self.length -= 1\n",
        "        return nivel.dequeue()"
      ],
      "execution_count": 21,
      "outputs": []
    },
    {
      "cell_type": "code",
      "metadata": {
        "colab": {
          "base_uri": "https://localhost:8080/"
        },
        "id": "KGLkVlD-A9tY",
        "outputId": "871b0f91-bb6d-4c9e-bf1a-a9eaa38dd08c"
      },
      "source": [
        "cpa = ColaPrioridadAcotada(7)\n",
        "cpa.enqueue(4, \"A\")\n",
        "cpa.enqueue(2, \"Z\")\n",
        "cpa.enqueue(4, \"N\")\n",
        "cpa.enqueue(1, \"P\")\n",
        "cpa.to_string()\n",
        "print(\".-.-.-..-.-.-.-.\")\n",
        "cpa.dequeue()\n",
        "cpa.to_string()"
      ],
      "execution_count": 22,
      "outputs": [
        {
          "output_type": "stream",
          "name": "stdout",
          "text": [
            "Prioridad 0 = \n",
            "Prioridad 1 = |P| <-- \n",
            "Prioridad 2 = |Z| <-- \n",
            "Prioridad 3 = \n",
            "Prioridad 4 = |A| <-- |N| <-- \n",
            "Prioridad 5 = \n",
            "Prioridad 6 = \n",
            ".-.-.-..-.-.-.-.\n",
            "Prioridad 0 = \n",
            "Prioridad 1 = \n",
            "Prioridad 2 = |Z| <-- \n",
            "Prioridad 3 = \n",
            "Prioridad 4 = |A| <-- |N| <-- \n",
            "Prioridad 5 = \n",
            "Prioridad 6 = \n"
          ]
        }
      ]
    },
    {
      "cell_type": "code",
      "metadata": {
        "id": "wdruuYZIA_PA"
      },
      "source": [
        "class ColaDePrioridad:\n",
        "  def __init__(self):\n",
        "    self.__data = []\n",
        "    self.__length = 0\n",
        "\n",
        "  def is_empty(self):\n",
        "    return self.__length == 0\n",
        "\n",
        "  def length(self):\n",
        "    return self.__length\n",
        "\n",
        "  def enqueue(self, prioridad, dato):\n",
        "    existe = False\n",
        "    indice = 0\n",
        "    for index in range(len(self.__data)):\n",
        "      if self.__data[index][\"p\"] == prioridad:\n",
        "        self.__data[index][\"cola\"].enqueue(dato)\n",
        "        existe = True\n",
        "        indice = index\n",
        "        break\n",
        "    if existe:\n",
        "      self.__data[indice][\"cola\"].enqueue(dato)\n",
        "    else:\n",
        "      self.__data.append({\"p\":prioridad, \"cola\": QueueADT()})\n",
        "      self.__data[-1][\"cola\"].enqueue(dato)\n",
        "  \n",
        "  def to_string(self):\n",
        "    for level in self.__data:\n",
        "      print(level[\"p\"], end= \"=\")\n",
        "      level[\"cola\"].to_string()"
      ],
      "execution_count": 23,
      "outputs": []
    },
    {
      "cell_type": "code",
      "metadata": {
        "colab": {
          "base_uri": "https://localhost:8080/"
        },
        "id": "mtS93VdmBCRJ",
        "outputId": "aa2cd38d-0cdc-4495-9bc6-2110a03ed152"
      },
      "source": [
        "cp = ColaDePrioridad()\n",
        "cp.enqueue(2, \"A\")\n",
        "cp.enqueue(4, \"Z\")\n",
        "cp.enqueue(1, \"R\")\n",
        "cp.enqueue(2, \"B\")\n",
        "cp.enqueue(4, \"Y\")\n",
        "cp.to_string()"
      ],
      "execution_count": 24,
      "outputs": [
        {
          "output_type": "stream",
          "name": "stdout",
          "text": [
            "2=|A| <-- |B| <-- |B| <-- \n",
            "4=|Z| <-- |Y| <-- |Y| <-- \n",
            "1=|R| <-- \n"
          ]
        }
      ]
    }
  ]
}